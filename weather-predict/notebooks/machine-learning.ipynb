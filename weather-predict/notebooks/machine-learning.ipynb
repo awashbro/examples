{
 "cells": [
  {
   "cell_type": "markdown",
   "metadata": {},
   "source": [
    "## Step 1 - Import and Data loading\n",
    "\n",
    "Import the sklearn modules you intend to use as part of your Machine Learning analysis (e.g. classifiers, metrics, model selection)"
   ]
  },
  {
   "cell_type": "code",
   "execution_count": 1,
   "metadata": {},
   "outputs": [],
   "source": [
    "import pickle\n",
    "# ADD SKLEARN MODULES FOR YOUR CHOSEN CLASSIFICATION METHOD HERE\n",
    "# e.g. to load the decision tree estimator use: from sklearn.tree import DecisionTreeClassifier\n",
    "from sklearn.tree import DecisionTreeClassifier\n",
    "from sklearn.metrics import classification_report, confusion_matrix\n",
    "from sklearn.model_selection import train_test_split"
   ]
  },
  {
   "cell_type": "markdown",
   "metadata": {},
   "source": [
    "Load the weather data you created by FeatureExtraction.py"
   ]
  },
  {
   "cell_type": "code",
   "execution_count": 2,
   "metadata": {},
   "outputs": [],
   "source": [
    "weather = pickle.load(open('data/mldata.p'))"
   ]
  },
  {
   "cell_type": "markdown",
   "metadata": {},
   "source": [
    "Confirm that the data has loaded correctly by inspecting the data attributes in the `weather` object."
   ]
  },
  {
   "cell_type": "code",
   "execution_count": 3,
   "metadata": {},
   "outputs": [
    {
     "name": "stdout",
     "output_type": "stream",
     "text": [
      "##################################################\n",
      "# Weather Data\n",
      "##################################################\n",
      "\n",
      "\n",
      "Weather Data:\n",
      "[[  1.03000000e+01   2.00000000e+03   1.00500000e+03  -1.00000000e+00\n",
      "    9.74000000e+01]\n",
      " [  1.05000000e+01   2.50000000e+03   1.00500000e+03  -1.00000000e+00\n",
      "    9.74000000e+01]\n",
      " [  1.07000000e+01   1.00000000e+04   1.00400000e+03  -1.00000000e+00\n",
      "    9.74000000e+01]\n",
      " ..., \n",
      " [  7.90000000e+00   2.50000000e+04   1.01600000e+03   1.00000000e+00\n",
      "    8.82000000e+01]\n",
      " [  6.80000000e+00   2.40000000e+04   1.01700000e+03   1.00000000e+00\n",
      "    7.93000000e+01]\n",
      " [  5.80000000e+00   2.50000000e+04   1.01800000e+03   1.00000000e+00\n",
      "    8.69000000e+01]]\n",
      "Number of entries: 45178\n",
      "Number of targets: 3\n",
      "Target names: ['Clear' 'Cloudy' 'Precipitation']\n",
      "Number of features: 5\n",
      "Feature names: ['Temperature' 'Visibilty' 'Pressure' 'Pressure Trend' 'Humidity']\n"
     ]
    }
   ],
   "source": [
    "print '#'*50\n",
    "print '# Weather Data'\n",
    "print '#'*50\n",
    "print '\\n'\n",
    "\n",
    "# print data\n",
    "print 'Weather Data:'\n",
    "print weather.data\n",
    "\n",
    "# print number of entries\n",
    "print 'Number of entries: %s' % (weather.getNrEntries())\n",
    "\n",
    "# print target names\n",
    "print 'Number of targets: %s' % (weather.getNrTargets())\n",
    "\n",
    "print 'Target names: %s' % (weather.getTargetNames())\n",
    "\n",
    "# print features\n",
    "print 'Number of features: %s' % (weather.getNrFeatures())\n",
    "\n",
    "print 'Feature names: %s' % (weather.getFeatures())"
   ]
  },
  {
   "cell_type": "markdown",
   "metadata": {},
   "source": [
    "## Step 2 - Define the training and testing sample\n",
    "\n",
    "Divide the weather data into a suitable training and testing sample. Start with a 50/50 split but make this easily adaptable for futher fitting evaluation.\n",
    "\n",
    "*Examples*:\n",
    "- [`sklearn.model_selection.train_test_split`](http://scikit-learn.org/stable/modules/generated/sklearn.model_selection.train_test_split.html)\n"
   ]
  },
  {
   "cell_type": "code",
   "execution_count": 4,
   "metadata": {},
   "outputs": [],
   "source": [
    "# DEFINE TRAINING AND TESTING SAMPLES AND TARGETS HERE\n",
    "train_data, test_data, train_target, test_target = train_test_split(\n",
    "    weather.data, weather.target, test_size=0.5, random_state=0)"
   ]
  },
  {
   "cell_type": "markdown",
   "metadata": {},
   "source": [
    "## Step 3 - Define the classification method\n",
    "\n",
    "This can be any of the estimators provided by Sklearn. I suggest you start with a *white box* method to better understand the process before trying something more advanced."
   ]
  },
  {
   "cell_type": "code",
   "execution_count": 5,
   "metadata": {},
   "outputs": [],
   "source": [
    "# DEFINE CLASSIFIER HERE\n",
    "# e.g for a Decision tree: clf = DecisionTreeClassifier()\n",
    "clf = DecisionTreeClassifier(max_depth=3)"
   ]
  },
  {
   "cell_type": "markdown",
   "metadata": {},
   "source": [
    "## Step 4 - Fit the training data\n",
    "\n",
    "Run the `fit` method of your chosen estimator using the training data (and corresponding targets) as input"
   ]
  },
  {
   "cell_type": "code",
   "execution_count": 6,
   "metadata": {},
   "outputs": [
    {
     "data": {
      "text/plain": [
       "DecisionTreeClassifier(class_weight=None, criterion='gini', max_depth=3,\n",
       "            max_features=None, max_leaf_nodes=None,\n",
       "            min_impurity_decrease=0.0, min_impurity_split=None,\n",
       "            min_samples_leaf=1, min_samples_split=2,\n",
       "            min_weight_fraction_leaf=0.0, presort=False, random_state=None,\n",
       "            splitter='best')"
      ]
     },
     "execution_count": 6,
     "metadata": {},
     "output_type": "execute_result"
    }
   ],
   "source": [
    "# RUN FIT METHOD HERE\n",
    "clf.fit(train_data, train_target)"
   ]
  },
  {
   "cell_type": "markdown",
   "metadata": {},
   "source": [
    "## Step 5 - Define the expected and predicted datasets\n",
    "\n",
    "Define `expected` as your *test* target values (i.e. **not** your *training* target values) and run the `predict` method on your chosen estimator using your *test data*"
   ]
  },
  {
   "cell_type": "code",
   "execution_count": 7,
   "metadata": {},
   "outputs": [],
   "source": [
    "# DEFINE EXPECTED AND PREDICTED VALUES HERE\n",
    "expected = test_target\n",
    "predicted = clf.predict(test_data)"
   ]
  },
  {
   "cell_type": "markdown",
   "metadata": {},
   "source": [
    "## Step 6 - Prediction Evaluation\n",
    "\n",
    "#Use the `sklearn.metrics` module to compare the results using the expected and predicted datasets.\n",
    "\n",
    "Examples:\n",
    "- [Sklearn Model Evaluation](http://scikit-learn.org/stable/modules/model_evaluation.html#)\n",
    "- [Handwritten Digits example](http://scikit-learn.org/stable/auto_examples/classification/plot_digits_classification.html#sphx-glr-auto-examples-classification-plot-digits-classification-py)"
   ]
  },
  {
   "cell_type": "code",
   "execution_count": 8,
   "metadata": {},
   "outputs": [
    {
     "name": "stdout",
     "output_type": "stream",
     "text": [
      "Classification report for classifier DecisionTreeClassifier(class_weight=None, criterion='gini', max_depth=3,\n",
      "            max_features=None, max_leaf_nodes=None,\n",
      "            min_impurity_decrease=0.0, min_impurity_split=None,\n",
      "            min_samples_leaf=1, min_samples_split=2,\n",
      "            min_weight_fraction_leaf=0.0, presort=False, random_state=None,\n",
      "            splitter='best'):\n",
      "             precision    recall  f1-score   support\n",
      "\n",
      "          0       0.62      0.22      0.33      4372\n",
      "          1       0.74      0.96      0.84     16115\n",
      "          2       0.00      0.00      0.00      2102\n",
      "\n",
      "avg / total       0.65      0.73      0.66     22589\n",
      "\n",
      "\n",
      "Confusion matrix:\n",
      "[[  977  3395     0]\n",
      " [  566 15549     0]\n",
      " [   30  2072     0]]\n"
     ]
    },
    {
     "name": "stderr",
     "output_type": "stream",
     "text": [
      "/home/awashbro/.local/lib/python2.7/site-packages/sklearn/metrics/classification.py:1135: UndefinedMetricWarning: Precision and F-score are ill-defined and being set to 0.0 in labels with no predicted samples.\n",
      "  'precision', 'predicted', average, warn_for)\n"
     ]
    }
   ],
   "source": [
    "# RUN PREDICTION EVALUATION METHODS HERE\n",
    "print(\"Classification report for classifier %s:\\n%s\\n\"\n",
    "      % (clf, classification_report(expected, predicted)))\n",
    "\n",
    "print(\"Confusion matrix:\\n%s\" % confusion_matrix(expected, predicted))"
   ]
  },
  {
   "cell_type": "code",
   "execution_count": null,
   "metadata": {},
   "outputs": [],
   "source": []
  }
 ],
 "metadata": {
  "kernelspec": {
   "display_name": "Python 2",
   "language": "python",
   "name": "python2"
  },
  "language_info": {
   "codemirror_mode": {
    "name": "ipython",
    "version": 2
   },
   "file_extension": ".py",
   "mimetype": "text/x-python",
   "name": "python",
   "nbconvert_exporter": "python",
   "pygments_lexer": "ipython2",
   "version": "2.7.13"
  }
 },
 "nbformat": 4,
 "nbformat_minor": 2
}
