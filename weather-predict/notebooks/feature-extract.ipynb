{
 "cells": [
  {
   "cell_type": "markdown",
   "metadata": {},
   "source": [
    "## Step 1 - `Weather` class\n",
    "\n",
    "Begin by importing the Weather class. Weather data is accessed through an instantation of the provided `Weather` class."
   ]
  },
  {
   "cell_type": "code",
   "execution_count": null,
   "metadata": {},
   "outputs": [],
   "source": [
    "from Weather import *"
   ]
  },
  {
   "cell_type": "markdown",
   "metadata": {},
   "source": [
    "## Step 2 - Load Weather data\n",
    "\n",
    "Create a new object (e.g. `weather`) of type `Weather`. As part of the instantiation provide:\n",
    "\n",
    "- weatherFile: The filename (either basic.txt or advanced.txt)\n",
    "- fileSlice: The number of lines to read from the chosen input file (0 is all)\n",
    "\n",
    "Use the `fileSlice` to limit the sample size for early evaluation"
   ]
  },
  {
   "cell_type": "code",
   "execution_count": null,
   "metadata": {},
   "outputs": [],
   "source": [
    "weatherFile = 'data/basic.txt'\n",
    "fileSlice = 0\n",
    "weather = Weather(weatherFile, fileSlice)"
   ]
  },
  {
   "cell_type": "markdown",
   "metadata": {},
   "source": [
    "## Step 3 - Inspect the Data"
   ]
  },
  {
   "cell_type": "code",
   "execution_count": null,
   "metadata": {},
   "outputs": [],
   "source": [
    "print '#'*50\n",
    "print '# Step 3: Inspect the Data'\n",
    "print '#'*50\n",
    "print '\\n'\n",
    "\n",
    "# print data\n",
    "print 'Weather Data:'\n",
    "print weather.data\n",
    "\n",
    "# print number of entries\n",
    "print 'Number of entries: %s' % (weather.getNrEntries())\n",
    "\n",
    "# print target names\n",
    "print 'Number of targets: %s' % (weather.getNrTargets())\n",
    "\n",
    "print 'Target names: %s' % (weather.getTargetNames())\n",
    "\n",
    "# print features\n",
    "print 'Number of features: %s' % (weather.getNrFeatures())\n",
    "\n",
    "print 'Feature names: %s' % (weather.getFeatures())\n",
    "\n",
    "# uncomment below to print station data\n",
    "# print 'Number of weather stations: %s' % (weather.getNrStations())\n",
    "# print 'Stations (ID, Name, Latitude, Longitude)'\n",
    "# print weather.getStationData('all')\n",
    "\n",
    "# Edinburgh and Shap station details\n",
    "print 'Station data for EDINBURGH/GOGARBANK: %s' % (weather.getStationData('EDINBURGH/GOGARBANK'))\n",
    "print 'Station data for ID 3225: %s' % (weather.getStationData('3225'))\n",
    "\n",
    "# get data from one feature\n",
    "print 'Temperature data: %s' % (weather.getFeatureData('Temperature'))"
   ]
  },
  {
   "cell_type": "markdown",
   "metadata": {},
   "source": [
    "## Step 4 - Recovering Incomplete Data\n",
    "\n",
    "Some of the observation values have a value of `-99999`. This is a default value I inserted to indicate that the feature data was either not collected at the time of the observation or had a null value. \n",
    "\n",
    "Any data points that contain null observations need to be corrected to avoid problems with subsequent filtering and modifications.\n",
    "\n",
    "In some cases null values can either be interpolated or set to a default value.\n",
    "\n",
    "The large majority of null data is from the `Gust` measurement Here I assume than no observation is the same as a zero value."
   ]
  },
  {
   "cell_type": "code",
   "execution_count": null,
   "metadata": {},
   "outputs": [],
   "source": [
    "# zero any null gust measurements\n",
    "newG = ['0' if g == '-99999' else g for g in weather.getFeatureData('Gust')]\n",
    "weather.modify('Gust', newG)\n",
    "#print weather.getFeatureData('Gust')"
   ]
  },
  {
   "cell_type": "markdown",
   "metadata": {},
   "source": [
    "## Step 5 - Removing Incomplete Data\n",
    "\n",
    "After recovering any data ensure you run the `discard()` method to\n",
    "remove any data with remaining null observations."
   ]
  },
  {
   "cell_type": "code",
   "execution_count": null,
   "metadata": {},
   "outputs": [],
   "source": [
    "weather.discard()"
   ]
  },
  {
   "cell_type": "markdown",
   "metadata": {},
   "source": [
    "## Step 6 - Data Conversion\n",
    "\n",
    "Some of the features have observation values that will be difficult for a machine learning estimator to interpret correctly (e.g. Wind Direction).\n",
    "\n",
    "You should ensure that all the features selected for a machine learning classification have a numeric value.\n",
    "\n",
    "In example 1 the pressure trend is changed from Falling, Static, Rising to -1,0,1\n",
    "In example 2 the Wind Direction is changed to a 16 point index starting from direction NNE.\n",
    "\n",
    "**Important**: Due to the limitations with the `Weather` class ensure that any observation data remains type `string` (e.g store '1' **not** 1). The `export()` method will convert all the values from `string` to `float` just before the export."
   ]
  },
  {
   "cell_type": "code",
   "execution_count": null,
   "metadata": {},
   "outputs": [],
   "source": [
    "# Example 1 - Enumerate Pressure Trend (-1 falling, 0 static, 1 rising)\n",
    "\n",
    "# define types\n",
    "pTType = ['F', 'S', 'R']\n",
    "\n",
    "# generate new pressure trend values\n",
    "newPT = [str(pTType.index(p) - 1) for p in weather.getFeatureData('Pressure Trend') ]\n",
    "\n",
    "# modify dataset\n",
    "weather.modify('Pressure Trend', newPT)\n",
    "\n",
    "#print 'Pressure Trend: %s' % (weather.getFeatureData('Pressure Trend'))\n",
    "\n",
    "# Example 2 - Enumerate Wind direction (use 16 point compass index)\n",
    "\n",
    "# define types\n",
    "compassRose = ['NNE', 'NE', 'ENE', 'E', 'ESE', 'SE', 'SSE', 'S', 'SSW', 'SW', 'WSW', 'W', 'WNW', 'NW', 'NNW', 'N']\n",
    "\n",
    "# generate and modify Wind direction\n",
    "weather.modify('Wind Direction', [str(compassRose.index(w)) for w in weather.getFeatureData('Wind Direction')])\n",
    "\n",
    "#print 'Wind Direction: %s' % (weather.getFeatureData('Wind Direction'))\n"
   ]
  },
  {
   "cell_type": "markdown",
   "metadata": {},
   "source": [
    "## Step 7 - Data Extraction\n",
    "\n",
    "The `getObservations()` method will enable you to filter the available data by Station ID, date, time and a selected feature.\n",
    "\n",
    "This may be helpful if you want to build an additional input feature for classification based on contextual information\n",
    "\n",
    "The example below retrieves the temperature and dew point for Edinburgh for 24th October."
   ]
  },
  {
   "cell_type": "code",
   "execution_count": null,
   "metadata": {},
   "outputs": [],
   "source": [
    "print '\\n'\n",
    "print '#'*50\n",
    "print '# Step 7: Data Extraction'\n",
    "print '#'*50\n",
    "print '\\n'\n",
    "\n",
    "stationId = weather.getStationData('EDINBURGH/GOGARBANK')\n",
    "features = ['Time since midnight', 'Temperature', 'Dew Point']\n",
    "print 'Temperature and Dew Point measurements for Edinburgh 24th October'\n",
    "print '(Time since midnight (min), Temperature, Dew Point)'\n",
    "print weather.getObservations('3166', obsDate='2017-10-24', features=features)"
   ]
  },
  {
   "cell_type": "markdown",
   "metadata": {},
   "source": [
    "This can then be combined with location data. Here, the Pressure, Pressure Trend and Wind direction from the nearest weather station 100km NW of Edinburgh for 24th October is shown."
   ]
  },
  {
   "cell_type": "code",
   "execution_count": null,
   "metadata": {},
   "outputs": [],
   "source": [
    "stationId = weather.getStationData('EDINBURGH/GOGARBANK')\n",
    "\n",
    "# get nearest stations 100k NW of Edinburgh station within a 75km threshold\n",
    "nearestStations = weather.findStations([stationId[2], stationId[3]], ['100', '-45'], maxThreshold=75)\n",
    "\n",
    "print '\\n'\n",
    "print 'Nearest stations 100km NW of EDINBURGH/GOGARBANK'\n",
    "for s in nearestStations:\n",
    "    print s\n",
    "\n",
    "# use nearest station (index 0 )\n",
    "nearStationId = nearestStations[0]\n",
    "\n",
    "# get observations from nearest station on 24/10\n",
    "obsDate='2017-10-24'\n",
    "print '\\n'\n",
    "print 'Using station %s on %s' % (nearStationId[1], obsDate)\n",
    "features = ['Time since midnight', 'Pressure', 'Pressure Trend', 'Wind Direction']\n",
    "print '(Time since midnight (min), Pressure, Pressure Trend, Wind Direction)'\n",
    "print weather.getObservations(nearStationId[0], obsDate=obsDate, features=features)"
   ]
  },
  {
   "cell_type": "markdown",
   "metadata": {},
   "source": [
    "## Step 8 - Add new features\n",
    "\n",
    "You may get better insights into underlying patterns in the observations by extacting the provided data to generate new features.\n",
    "\n",
    "An example using the wind direction is shown below. The direction *relative* to the North and to the West is generated and appended to the dataset."
   ]
  },
  {
   "cell_type": "code",
   "execution_count": null,
   "metadata": {},
   "outputs": [],
   "source": [
    "# set relative direction (assume 16 points)\n",
    "# scores based on start NNE around clockwise\n",
    "northScore = ['7', '6', '5', '4', '3', '2', '1', '0', '1', '2', '3', '4', '5', '6', '7', '8']\n",
    "westScore = ['3', '2', '1', '0', '1', '2', '3', '4', '5', '6', '7', '8', '7', '6', '5', '4']\n",
    "north = [northScore[int(w)] for w in weather.getFeatureData('Wind Direction')]\n",
    "west = [westScore[int(w)] for w in weather.getFeatureData('Wind Direction')]\n",
    "\n",
    "# append to dataset\n",
    "weather.append('Wind Relative North', north)\n",
    "weather.append('Wind Relative West', west)"
   ]
  },
  {
   "cell_type": "markdown",
   "metadata": {},
   "source": [
    "## Step 9 - Select features\n",
    "\n",
    "To finish create an array of strings containing a subset of the features you feel will perform best in the classification. Call the select() method to filter the data"
   ]
  },
  {
   "cell_type": "code",
   "execution_count": null,
   "metadata": {},
   "outputs": [],
   "source": [
    "features = ['Temperature', 'Visibility', 'Pressure', 'Pressure Trend', 'Humidity']\n",
    "weather.select(features)"
   ]
  },
  {
   "cell_type": "markdown",
   "metadata": {},
   "source": [
    "## Step 10 - Export data\n",
    "\n",
    "Run the `export()` method to write the data of your selected features to file as a `pickle` object.\n",
    "\n",
    "This will move the target data ('Weather Type') into a new variable (`target`).\n",
    "\n",
    "**Note**: It is assumed that the *Station ID*  and *Station Name* will not be used as features for classification and are automatically stripped. The `export()` method will also strip out incomplete data before exporting to file."
   ]
  },
  {
   "cell_type": "code",
   "execution_count": null,
   "metadata": {},
   "outputs": [],
   "source": [
    "weather.export('data/mldata.p')"
   ]
  }
 ],
 "metadata": {
  "kernelspec": {
   "display_name": "Python 2",
   "language": "python",
   "name": "python2"
  },
  "language_info": {
   "codemirror_mode": {
    "name": "ipython",
    "version": 2
   },
   "file_extension": ".py",
   "mimetype": "text/x-python",
   "name": "python",
   "nbconvert_exporter": "python",
   "pygments_lexer": "ipython2",
   "version": "2.7.13"
  }
 },
 "nbformat": 4,
 "nbformat_minor": 2
}
